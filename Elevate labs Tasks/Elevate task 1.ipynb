{
 "cells": [
  {
   "cell_type": "code",
   "execution_count": 9,
   "id": "c3d75fe6-1a6e-46b8-863e-5295e83ada70",
   "metadata": {},
   "outputs": [
    {
     "name": "stdout",
     "output_type": "stream",
     "text": [
      "     CustomerID  Gender   Age  Annual Income (k$)  Spending Score (1-100)\n",
      "0             1    Male  19.0                15.0                    39.0\n",
      "1             2    Male  21.0                15.0                    81.0\n",
      "2             3  Female  20.0                16.0                     6.0\n",
      "3             4  Female  23.0                16.0                    77.0\n",
      "4             5  Female  31.0                17.0                    40.0\n",
      "..          ...     ...   ...                 ...                     ...\n",
      "195         196  Female  35.0               120.0                    79.0\n",
      "196         197  Female  45.0               126.0                    28.0\n",
      "197         198    Male  32.0               126.0                    74.0\n",
      "198         199    Male  32.0               137.0                    18.0\n",
      "199         200    Male  30.0               137.0                    83.0\n",
      "\n",
      "[200 rows x 5 columns]\n"
     ]
    }
   ],
   "source": [
    "import pandas as pd\n",
    "# step 1: load dataset\n",
    "df = pd.read_csv (\"Mall_Customers.csv\")\n",
    "print(df)"
   ]
  },
  {
   "cell_type": "code",
   "execution_count": 11,
   "id": "466127d0-e4f7-41b7-83b7-f6c6b0dc8f3a",
   "metadata": {},
   "outputs": [
    {
     "name": "stdout",
     "output_type": "stream",
     "text": [
      "Initial Data Shape: (200, 5)\n",
      "\n",
      "Missing Values:\n",
      " CustomerID                0\n",
      "Gender                    0\n",
      "Age                       3\n",
      "Annual Income (k$)        1\n",
      "Spending Score (1-100)    1\n",
      "dtype: int64\n",
      "\n",
      "Removed 0 duplicate rows.\n",
      "Data Shape after removing duplicates: (200, 5)\n",
      "\n",
      "Renamed columns: ['customerid', 'gender', 'age', 'annual_income_(k$)', 'spending_score_(1_100)']\n",
      "\n",
      "Removed 0 records with negative age.\n",
      "\n",
      "Final Data Types:\n",
      " customerid                  int64\n",
      "gender                     object\n",
      "age                         int64\n",
      "annual_income_(k$)        float64\n",
      "spending_score_(1_100)    float64\n",
      "dtype: object\n",
      "\n",
      "Cleaned dataset saved as 'Cleaned_Mall_Customers.csv'\n"
     ]
    }
   ],
   "source": [
    "df = pd.read_csv(\"Mall_Customers.csv\")  \n",
    "print(\"Initial Data Shape:\", df.shape)\n",
    "\n",
    "# Step 2: Check for missing values\n",
    "print(\"\\nMissing Values:\\n\", df.isnull().sum())\n",
    "\n",
    "# Step 3: Remove duplicate rows\n",
    "duplicates = df.duplicated().sum()\n",
    "df = df.drop_duplicates()\n",
    "print(f\"\\nRemoved {duplicates} duplicate rows.\")\n",
    "print(\"Data Shape after removing duplicates:\", df.shape)\n",
    "\n",
    "# Step 4: Rename columns to lowercase and replace spaces and hyphens with underscores\n",
    "df.columns = df.columns.str.lower().str.replace(\" \", \"_\").str.replace(\"-\", \"_\")\n",
    "print(\"\\nRenamed columns:\", df.columns.tolist())\n",
    "\n",
    "# Step 5: Clean text/categorical data\n",
    "if 'gender' in df.columns:\n",
    "    df['gender'] = df['gender'].str.upper()\n",
    "else:\n",
    "    print(\"Warning: 'gender' column not found after renaming.\")\n",
    "\n",
    "# Step 6: Validate age column\n",
    "if 'age' in df.columns:\n",
    "    invalid_ages = df[df['age'] < 0].shape[0]\n",
    "    df = df[df['age'] >= 0]\n",
    "    df['age'] = df['age'].astype(int)\n",
    "    print(f\"\\nRemoved {invalid_ages} records with negative age.\")\n",
    "else:\n",
    "    print(\"Warning: 'age' column not found.\")\n",
    "\n",
    "# Step 7: Check final data types\n",
    "print(\"\\nFinal Data Types:\\n\", df.dtypes)\n",
    "\n",
    "# Step 8: Save cleaned dataset\n",
    "df.to_csv(\"Cleaned_Mall_Customers.csv\", index=False)\n",
    "print(\"\\nCleaned dataset saved as 'Cleaned_Mall_Customers.csv'\")"
   ]
  },
  {
   "cell_type": "code",
   "execution_count": null,
   "id": "cc8b5ef9-435f-4fe1-b191-fff31d7543ef",
   "metadata": {},
   "outputs": [],
   "source": []
  }
 ],
 "metadata": {
  "kernelspec": {
   "display_name": "Python [conda env:base] *",
   "language": "python",
   "name": "conda-base-py"
  },
  "language_info": {
   "codemirror_mode": {
    "name": "ipython",
    "version": 3
   },
   "file_extension": ".py",
   "mimetype": "text/x-python",
   "name": "python",
   "nbconvert_exporter": "python",
   "pygments_lexer": "ipython3",
   "version": "3.13.5"
  }
 },
 "nbformat": 4,
 "nbformat_minor": 5
}
